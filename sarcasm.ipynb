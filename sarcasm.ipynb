{
  "nbformat": 4,
  "nbformat_minor": 0,
  "metadata": {
    "colab": {
      "name": "sarcasm.ipynb",
      "provenance": [],
      "collapsed_sections": []
    },
    "kernelspec": {
      "name": "python3",
      "display_name": "Python 3"
    },
    "language_info": {
      "name": "python"
    }
  },
  "cells": [
    {
      "cell_type": "code",
      "execution_count": null,
      "metadata": {
        "colab": {
          "base_uri": "https://localhost:8080/"
        },
        "id": "I9sKirEZ_AjZ",
        "outputId": "36bb70ee-296c-4263-972b-47dc333f92f1"
      },
      "outputs": [
        {
          "output_type": "stream",
          "name": "stdout",
          "text": [
            "--2022-01-09 17:08:08--  https://edinburghnlp.inf.ed.ac.uk/workshops/SemEval2022/train.En.csv\n",
            "Resolving edinburghnlp.inf.ed.ac.uk (edinburghnlp.inf.ed.ac.uk)... 129.215.33.77, 2001:630:3c1:33:216:3eff:fee2:6fec\n",
            "Connecting to edinburghnlp.inf.ed.ac.uk (edinburghnlp.inf.ed.ac.uk)|129.215.33.77|:443... connected.\n",
            "HTTP request sent, awaiting response... 200 OK\n",
            "Length: 491939 (480K) [text/csv]\n",
            "Saving to: ‘train.En.csv.2’\n",
            "\n",
            "train.En.csv.2      100%[===================>] 480.41K   658KB/s    in 0.7s    \n",
            "\n",
            "2022-01-09 17:08:09 (658 KB/s) - ‘train.En.csv.2’ saved [491939/491939]\n",
            "\n"
          ]
        }
      ],
      "source": [
        "! wget https://edinburghnlp.inf.ed.ac.uk/workshops/SemEval2022/train.En.csv"
      ]
    },
    {
      "cell_type": "code",
      "source": [
        "import numpy as np\n",
        "import matplotlib.pyplot as plt\n",
        "import pandas as pd\n",
        "import seaborn as sns"
      ],
      "metadata": {
        "id": "D4qU0gn7_5Lb"
      },
      "execution_count": null,
      "outputs": []
    },
    {
      "cell_type": "code",
      "source": [
        "df = pd.read_csv('train.En.csv')\n",
        "df.dropna(subset=['tweet'], inplace=True)\n",
        "df.fillna('', inplace=True)\n",
        "df.head()"
      ],
      "metadata": {
        "colab": {
          "base_uri": "https://localhost:8080/",
          "height": 687
        },
        "id": "1tkPIsV9__9Z",
        "outputId": "899aa572-eb48-41ed-e80c-04caa90d0191"
      },
      "execution_count": null,
      "outputs": [
        {
          "output_type": "execute_result",
          "data": {
            "text/html": [
              "\n",
              "  <div id=\"df-0841c700-5219-4ddf-90e3-87d153c71a7c\">\n",
              "    <div class=\"colab-df-container\">\n",
              "      <div>\n",
              "<style scoped>\n",
              "    .dataframe tbody tr th:only-of-type {\n",
              "        vertical-align: middle;\n",
              "    }\n",
              "\n",
              "    .dataframe tbody tr th {\n",
              "        vertical-align: top;\n",
              "    }\n",
              "\n",
              "    .dataframe thead th {\n",
              "        text-align: right;\n",
              "    }\n",
              "</style>\n",
              "<table border=\"1\" class=\"dataframe\">\n",
              "  <thead>\n",
              "    <tr style=\"text-align: right;\">\n",
              "      <th></th>\n",
              "      <th>Unnamed: 0</th>\n",
              "      <th>tweet</th>\n",
              "      <th>sarcastic</th>\n",
              "      <th>rephrase</th>\n",
              "      <th>sarcasm</th>\n",
              "      <th>irony</th>\n",
              "      <th>satire</th>\n",
              "      <th>understatement</th>\n",
              "      <th>overstatement</th>\n",
              "      <th>rhetorical_question</th>\n",
              "    </tr>\n",
              "  </thead>\n",
              "  <tbody>\n",
              "    <tr>\n",
              "      <th>0</th>\n",
              "      <td>0</td>\n",
              "      <td>The only thing I got from college is a caffein...</td>\n",
              "      <td>1</td>\n",
              "      <td>College is really difficult, expensive, tiring...</td>\n",
              "      <td>0</td>\n",
              "      <td>1</td>\n",
              "      <td>0</td>\n",
              "      <td>0</td>\n",
              "      <td>0</td>\n",
              "      <td>0</td>\n",
              "    </tr>\n",
              "    <tr>\n",
              "      <th>1</th>\n",
              "      <td>1</td>\n",
              "      <td>I love it when professors draw a big question ...</td>\n",
              "      <td>1</td>\n",
              "      <td>I do not like when professors don’t write out ...</td>\n",
              "      <td>1</td>\n",
              "      <td>0</td>\n",
              "      <td>0</td>\n",
              "      <td>0</td>\n",
              "      <td>0</td>\n",
              "      <td>0</td>\n",
              "    </tr>\n",
              "    <tr>\n",
              "      <th>2</th>\n",
              "      <td>2</td>\n",
              "      <td>Remember the hundred emails from companies whe...</td>\n",
              "      <td>1</td>\n",
              "      <td>I, at the bare minimum, wish companies actuall...</td>\n",
              "      <td>0</td>\n",
              "      <td>1</td>\n",
              "      <td>0</td>\n",
              "      <td>0</td>\n",
              "      <td>0</td>\n",
              "      <td>0</td>\n",
              "    </tr>\n",
              "    <tr>\n",
              "      <th>3</th>\n",
              "      <td>3</td>\n",
              "      <td>Today my pop-pop told me I was not “forced” to...</td>\n",
              "      <td>1</td>\n",
              "      <td>Today my pop-pop told me I was not \"forced\" to...</td>\n",
              "      <td>1</td>\n",
              "      <td>0</td>\n",
              "      <td>0</td>\n",
              "      <td>0</td>\n",
              "      <td>0</td>\n",
              "      <td>0</td>\n",
              "    </tr>\n",
              "    <tr>\n",
              "      <th>4</th>\n",
              "      <td>4</td>\n",
              "      <td>@VolphanCarol @littlewhitty @mysticalmanatee I...</td>\n",
              "      <td>1</td>\n",
              "      <td>I would say Ted Cruz is an asshole and doesn’t...</td>\n",
              "      <td>1</td>\n",
              "      <td>0</td>\n",
              "      <td>0</td>\n",
              "      <td>0</td>\n",
              "      <td>0</td>\n",
              "      <td>0</td>\n",
              "    </tr>\n",
              "  </tbody>\n",
              "</table>\n",
              "</div>\n",
              "      <button class=\"colab-df-convert\" onclick=\"convertToInteractive('df-0841c700-5219-4ddf-90e3-87d153c71a7c')\"\n",
              "              title=\"Convert this dataframe to an interactive table.\"\n",
              "              style=\"display:none;\">\n",
              "        \n",
              "  <svg xmlns=\"http://www.w3.org/2000/svg\" height=\"24px\"viewBox=\"0 0 24 24\"\n",
              "       width=\"24px\">\n",
              "    <path d=\"M0 0h24v24H0V0z\" fill=\"none\"/>\n",
              "    <path d=\"M18.56 5.44l.94 2.06.94-2.06 2.06-.94-2.06-.94-.94-2.06-.94 2.06-2.06.94zm-11 1L8.5 8.5l.94-2.06 2.06-.94-2.06-.94L8.5 2.5l-.94 2.06-2.06.94zm10 10l.94 2.06.94-2.06 2.06-.94-2.06-.94-.94-2.06-.94 2.06-2.06.94z\"/><path d=\"M17.41 7.96l-1.37-1.37c-.4-.4-.92-.59-1.43-.59-.52 0-1.04.2-1.43.59L10.3 9.45l-7.72 7.72c-.78.78-.78 2.05 0 2.83L4 21.41c.39.39.9.59 1.41.59.51 0 1.02-.2 1.41-.59l7.78-7.78 2.81-2.81c.8-.78.8-2.07 0-2.86zM5.41 20L4 18.59l7.72-7.72 1.47 1.35L5.41 20z\"/>\n",
              "  </svg>\n",
              "      </button>\n",
              "      \n",
              "  <style>\n",
              "    .colab-df-container {\n",
              "      display:flex;\n",
              "      flex-wrap:wrap;\n",
              "      gap: 12px;\n",
              "    }\n",
              "\n",
              "    .colab-df-convert {\n",
              "      background-color: #E8F0FE;\n",
              "      border: none;\n",
              "      border-radius: 50%;\n",
              "      cursor: pointer;\n",
              "      display: none;\n",
              "      fill: #1967D2;\n",
              "      height: 32px;\n",
              "      padding: 0 0 0 0;\n",
              "      width: 32px;\n",
              "    }\n",
              "\n",
              "    .colab-df-convert:hover {\n",
              "      background-color: #E2EBFA;\n",
              "      box-shadow: 0px 1px 2px rgba(60, 64, 67, 0.3), 0px 1px 3px 1px rgba(60, 64, 67, 0.15);\n",
              "      fill: #174EA6;\n",
              "    }\n",
              "\n",
              "    [theme=dark] .colab-df-convert {\n",
              "      background-color: #3B4455;\n",
              "      fill: #D2E3FC;\n",
              "    }\n",
              "\n",
              "    [theme=dark] .colab-df-convert:hover {\n",
              "      background-color: #434B5C;\n",
              "      box-shadow: 0px 1px 3px 1px rgba(0, 0, 0, 0.15);\n",
              "      filter: drop-shadow(0px 1px 2px rgba(0, 0, 0, 0.3));\n",
              "      fill: #FFFFFF;\n",
              "    }\n",
              "  </style>\n",
              "\n",
              "      <script>\n",
              "        const buttonEl =\n",
              "          document.querySelector('#df-0841c700-5219-4ddf-90e3-87d153c71a7c button.colab-df-convert');\n",
              "        buttonEl.style.display =\n",
              "          google.colab.kernel.accessAllowed ? 'block' : 'none';\n",
              "\n",
              "        async function convertToInteractive(key) {\n",
              "          const element = document.querySelector('#df-0841c700-5219-4ddf-90e3-87d153c71a7c');\n",
              "          const dataTable =\n",
              "            await google.colab.kernel.invokeFunction('convertToInteractive',\n",
              "                                                     [key], {});\n",
              "          if (!dataTable) return;\n",
              "\n",
              "          const docLinkHtml = 'Like what you see? Visit the ' +\n",
              "            '<a target=\"_blank\" href=https://colab.research.google.com/notebooks/data_table.ipynb>data table notebook</a>'\n",
              "            + ' to learn more about interactive tables.';\n",
              "          element.innerHTML = '';\n",
              "          dataTable['output_type'] = 'display_data';\n",
              "          await google.colab.output.renderOutput(dataTable, element);\n",
              "          const docLink = document.createElement('div');\n",
              "          docLink.innerHTML = docLinkHtml;\n",
              "          element.appendChild(docLink);\n",
              "        }\n",
              "      </script>\n",
              "    </div>\n",
              "  </div>\n",
              "  "
            ],
            "text/plain": [
              "   Unnamed: 0  ... rhetorical_question\n",
              "0           0  ...                   0\n",
              "1           1  ...                   0\n",
              "2           2  ...                   0\n",
              "3           3  ...                   0\n",
              "4           4  ...                   0\n",
              "\n",
              "[5 rows x 10 columns]"
            ]
          },
          "metadata": {},
          "execution_count": 285
        }
      ]
    },
    {
      "cell_type": "code",
      "source": [
        "fraud_df = df.loc[df['sarcastic'] == 1]\n",
        "non_fraud_df = df.loc[df['sarcastic'] == 0].sample(n=867, random_state=42)\n",
        "df = pd.concat([fraud_df, non_fraud_df])\n",
        "\n",
        "plt.figure(figsize=(8, 8))\n",
        "sns.countplot('sarcastic', data=df)\n",
        "plt.title('Balanced Classes')\n",
        "plt.show()"
      ],
      "metadata": {
        "colab": {
          "base_uri": "https://localhost:8080/",
          "height": 568
        },
        "id": "5fNhc1yT1KT_",
        "outputId": "cafee7a1-450b-432b-e5ad-4c860f4c617e"
      },
      "execution_count": null,
      "outputs": [
        {
          "output_type": "stream",
          "name": "stderr",
          "text": [
            "/usr/local/lib/python3.7/dist-packages/seaborn/_decorators.py:43: FutureWarning: Pass the following variable as a keyword arg: x. From version 0.12, the only valid positional argument will be `data`, and passing other arguments without an explicit keyword will result in an error or misinterpretation.\n",
            "  FutureWarning\n"
          ]
        },
        {
          "output_type": "display_data",
          "data": {
            "image/png": "[encoded data removed]",
            "text/plain": [
              "<Figure size 576x576 with 1 Axes>"
            ]
          },
          "metadata": {
            "needs_background": "light"
          }
        }
      ]
    },
    {
      "cell_type": "code",
      "source": [
        "tweets = df.drop(['sarcastic', 'sarcasm', 'irony', 'satire', 'understatement', 'overstatement', 'rhetorical_question'], axis=1)\n",
        "tweets['all'] = tweets['tweet']\n",
        "tweets.head()\n",
        "labels = df['sarcastic']\n",
        "labels.value_counts()"
      ],
      "metadata": {
        "colab": {
          "base_uri": "https://localhost:8080/"
        },
        "id": "3oWAhcpyCky8",
        "outputId": "50b36e55-62be-4125-9517-9e036cb6cf23"
      },
      "execution_count": null,
      "outputs": [
        {
          "output_type": "execute_result",
          "data": {
            "text/plain": [
              "1    867\n",
              "0    867\n",
              "Name: sarcastic, dtype: int64"
            ]
          },
          "metadata": {},
          "execution_count": 312
        }
      ]
    },
    {
      "cell_type": "code",
      "source": [
        "import tensorflow as tf\n",
        "\n",
        "from tensorflow.keras.layers import Embedding\n",
        "from tensorflow.keras.preprocessing.sequence import pad_sequences\n",
        "from tensorflow.keras.models import Sequential\n",
        "from tensorflow.keras.preprocessing.text import one_hot\n",
        "from tensorflow.keras.preprocessing.text import Tokenizer\n",
        "from tensorflow.keras.layers import LSTM\n",
        "from tensorflow.keras.layers import Dense\n",
        "from tensorflow.keras.layers import Bidirectional\n",
        "from tensorflow.keras.layers import Dropout\n",
        "from tensorflow.keras.layers import SpatialDropout1D\n",
        "from tensorflow.keras.layers import Activation\n",
        "from tensorflow.keras.layers import Conv1D\n",
        "from tensorflow.keras.layers import LeakyReLU"
      ],
      "metadata": {
        "id": "bl771czwEaZk"
      },
      "execution_count": null,
      "outputs": []
    },
    {
      "cell_type": "code",
      "source": [
        "words = tweets.copy()"
      ],
      "metadata": {
        "id": "tWaOFec8GZUY"
      },
      "execution_count": null,
      "outputs": []
    },
    {
      "cell_type": "code",
      "source": [
        "import nltk\n",
        "import re\n",
        "from nltk.corpus import stopwords\n",
        "nltk.download('stopwords')\n",
        "nltk.download('wordnet')"
      ],
      "metadata": {
        "colab": {
          "base_uri": "https://localhost:8080/"
        },
        "id": "Wf54qQZYGfoE",
        "outputId": "cdd9ce9f-06f6-4ec8-f504-339e6324f043"
      },
      "execution_count": null,
      "outputs": [
        {
          "output_type": "stream",
          "name": "stdout",
          "text": [
            "[nltk_data] Downloading package stopwords to /root/nltk_data...\n",
            "[nltk_data]   Package stopwords is already up-to-date!\n",
            "[nltk_data] Downloading package wordnet to /root/nltk_data...\n",
            "[nltk_data]   Package wordnet is already up-to-date!\n"
          ]
        },
        {
          "output_type": "execute_result",
          "data": {
            "text/plain": [
              "True"
            ]
          },
          "metadata": {},
          "execution_count": 315
        }
      ]
    },
    {
      "cell_type": "code",
      "source": [
        "from nltk.stem import WordNetLemmatizer\n",
        "from nltk.stem import PorterStemmer"
      ],
      "metadata": {
        "id": "NMtONHLVGi4w"
      },
      "execution_count": null,
      "outputs": []
    },
    {
      "cell_type": "code",
      "source": [
        "def get_corpus(words):\n",
        "  lemmatizer = WordNetLemmatizer()\n",
        "  porter = PorterStemmer()\n",
        "  corpus = []\n",
        "\n",
        "  for i in range(len(words)):\n",
        "    try:\n",
        "      review = re.sub('[^a-zA-Z]', ' ', words.iloc[i])\n",
        "      review = review.lower()\n",
        "      review = review.split()\n",
        "      review = [word for word in review \n",
        "                if not word in stopwords.words('english')]\n",
        "      review = ' '.join(review)\n",
        "      corpus.append(review)\n",
        "    except Exception as e:\n",
        "      print(i)\n",
        "      print(words['tweet'])\n",
        "  return corpus"
      ],
      "metadata": {
        "id": "wlR__JjVGlYQ"
      },
      "execution_count": null,
      "outputs": []
    },
    {
      "cell_type": "code",
      "source": [
        "def tokenize(corpus):\n",
        "  tokenizer = Tokenizer(num_words=20000)\n",
        "  tokenizer.fit_on_texts(corpus)\n",
        "  sequences = tokenizer.texts_to_sequences(corpus)\n",
        "  word_index = tokenizer.word_index\n",
        "  max_len = max([len(x) for x in sequences])\n",
        "  len(word_index)\n",
        "  return sequences, word_index, max_len"
      ],
      "metadata": {
        "id": "LT14qrnaID4-"
      },
      "execution_count": null,
      "outputs": []
    },
    {
      "cell_type": "code",
      "source": [
        "# !wget https://nlp.stanford.edu/data/glove.6B.zip\n",
        "# !unzip glove.6B.zip"
      ],
      "metadata": {
        "id": "olBpis0vIOii"
      },
      "execution_count": null,
      "outputs": []
    },
    {
      "cell_type": "code",
      "source": [
        "GLOVE_DIR = 'glove.6B.100d.txt'\n",
        "EMBEDDING_DIM = 100\n",
        "\n",
        "def get_word_vectors(sequences, word_index):\n",
        "  embeddings_index = {}\n",
        "\n",
        "  with open(GLOVE_DIR, 'r') as f:\n",
        "    for line in f:\n",
        "      values = line.split()\n",
        "      word = values[0]\n",
        "      embeddings_index[word] = np.asarray(values[1:], dtype='float32')\n",
        "\n",
        "  embedding_matrix = np.random.random((len(word_index) + 1, EMBEDDING_DIM))\n",
        "  for word, i in word_index.items():\n",
        "    embedding_vector = embeddings_index.get(word)\n",
        "    if embedding_vector is not None:\n",
        "      embedding_matrix[i] = embedding_vector\n",
        "    else:\n",
        "      embedding_matrix[i] = np.random.randn(EMBEDDING_DIM)\n",
        "  return embedding_matrix"
      ],
      "metadata": {
        "id": "kLMa2yhKJn5e"
      },
      "execution_count": null,
      "outputs": []
    },
    {
      "cell_type": "code",
      "source": [
        "sequences, word_index, max_len = tokenize(get_corpus(words['all']))\n",
        "data = pad_sequences(sequences, padding='post', maxlen=max_len)\n",
        "embedding_matrix = get_word_vectors(sequences, word_index)"
      ],
      "metadata": {
        "id": "DxcZHQ_eJ0hw"
      },
      "execution_count": null,
      "outputs": []
    },
    {
      "cell_type": "code",
      "source": [
        "len(word_index)\n",
        "max_len"
      ],
      "metadata": {
        "id": "Ko-YtISkuj5c",
        "colab": {
          "base_uri": "https://localhost:8080/"
        },
        "outputId": "0ff36cb9-df9a-4dda-c31a-448ffcc15a6a"
      },
      "execution_count": null,
      "outputs": [
        {
          "output_type": "execute_result",
          "data": {
            "text/plain": [
              "42"
            ]
          },
          "metadata": {},
          "execution_count": 347
        }
      ]
    },
    {
      "cell_type": "code",
      "source": [
        "from tensorflow.keras.optimizers import Adam\n",
        "model = Sequential()\n",
        "model.add(Embedding(len(word_index)+1, output_dim=EMBEDDING_DIM,\n",
        "                    weights=[embedding_matrix],\n",
        "                    input_length=max_len,\n",
        "                    trainable=True))\n",
        "model.add(Bidirectional(LSTM(units=16 , recurrent_dropout = 0.5 , dropout = 0.5)))\n",
        "model.add(Dense(1, activation='sigmoid'))\n",
        "model.compile(optimizer=Adam(learning_rate = 0.0001), loss='binary_crossentropy', metrics=['acc'])"
      ],
      "metadata": {
        "id": "26cPO0D-KDvu"
      },
      "execution_count": null,
      "outputs": []
    },
    {
      "cell_type": "code",
      "source": [
        "X_processed = np.array(data)\n",
        "y_processed = np.array(labels)\n",
        "\n",
        "X_processed.shape, y_processed.shape"
      ],
      "metadata": {
        "colab": {
          "base_uri": "https://localhost:8080/"
        },
        "id": "-QYGJDPJKTRw",
        "outputId": "e9ad0b7c-0496-438d-c7f0-5e9c61628d75"
      },
      "execution_count": null,
      "outputs": [
        {
          "output_type": "execute_result",
          "data": {
            "text/plain": [
              "((1734, 42), (1734,))"
            ]
          },
          "metadata": {},
          "execution_count": 368
        }
      ]
    },
    {
      "cell_type": "code",
      "source": [
        "from sklearn.model_selection import train_test_split\n",
        "X_train, X_test, y_train, y_test = train_test_split(X_processed, y_processed, \n",
        "                                                    test_size=0.2, random_state=16)"
      ],
      "metadata": {
        "id": "e4Bi-9hJKkyC"
      },
      "execution_count": null,
      "outputs": []
    },
    {
      "cell_type": "code",
      "source": [
        "callback = tf.keras.callbacks.EarlyStopping(monitor='val_loss', min_delta=0, verbose=0, patience=5, mode='auto')\n",
        "history = model.fit(X_train, y_train, validation_data=(X_test, y_test), callbacks=[callback], epochs=100, batch_size=32)\n"
      ],
      "metadata": {
        "colab": {
          "base_uri": "https://localhost:8080/"
        },
        "id": "VIc9f5ZUKqJP",
        "outputId": "674a11a3-f37c-4bbb-cf37-807999aed248"
      },
      "execution_count": null,
      "outputs": [
        {
          "output_type": "stream",
          "name": "stdout",
          "text": [
            "Epoch 1/100\n",
            "44/44 [==============================] - 9s 93ms/step - loss: 0.7261 - acc: 0.5018 - val_loss: 0.7175 - val_acc: 0.4899\n",
            "Epoch 2/100\n",
            "44/44 [==============================] - 4s 80ms/step - loss: 0.7125 - acc: 0.4910 - val_loss: 0.7039 - val_acc: 0.4841\n",
            "Epoch 3/100\n",
            "44/44 [==============================] - 4s 81ms/step - loss: 0.7056 - acc: 0.4773 - val_loss: 0.6989 - val_acc: 0.4870\n",
            "Epoch 4/100\n",
            "44/44 [==============================] - 4s 80ms/step - loss: 0.7017 - acc: 0.4845 - val_loss: 0.6976 - val_acc: 0.4928\n",
            "Epoch 5/100\n",
            "44/44 [==============================] - 4s 81ms/step - loss: 0.7032 - acc: 0.4809 - val_loss: 0.6956 - val_acc: 0.5274\n",
            "Epoch 6/100\n",
            "44/44 [==============================] - 4s 80ms/step - loss: 0.7021 - acc: 0.4881 - val_loss: 0.6944 - val_acc: 0.5245\n",
            "Epoch 7/100\n",
            "44/44 [==============================] - 4s 80ms/step - loss: 0.6967 - acc: 0.4968 - val_loss: 0.6935 - val_acc: 0.5303\n",
            "Epoch 8/100\n",
            "44/44 [==============================] - 4s 81ms/step - loss: 0.6975 - acc: 0.5097 - val_loss: 0.6930 - val_acc: 0.5303\n",
            "Epoch 9/100\n",
            "44/44 [==============================] - 4s 81ms/step - loss: 0.6973 - acc: 0.5198 - val_loss: 0.6921 - val_acc: 0.5447\n",
            "Epoch 10/100\n",
            "44/44 [==============================] - 4s 80ms/step - loss: 0.6971 - acc: 0.5040 - val_loss: 0.6918 - val_acc: 0.5418\n",
            "Epoch 11/100\n",
            "44/44 [==============================] - 4s 81ms/step - loss: 0.6928 - acc: 0.5119 - val_loss: 0.6916 - val_acc: 0.5418\n",
            "Epoch 12/100\n",
            "44/44 [==============================] - 4s 80ms/step - loss: 0.6930 - acc: 0.5004 - val_loss: 0.6915 - val_acc: 0.5389\n",
            "Epoch 13/100\n",
            "44/44 [==============================] - 4s 80ms/step - loss: 0.6952 - acc: 0.5076 - val_loss: 0.6909 - val_acc: 0.5389\n",
            "Epoch 14/100\n",
            "44/44 [==============================] - 4s 81ms/step - loss: 0.6951 - acc: 0.5112 - val_loss: 0.6910 - val_acc: 0.5216\n",
            "Epoch 15/100\n",
            "44/44 [==============================] - 4s 80ms/step - loss: 0.6952 - acc: 0.5133 - val_loss: 0.6903 - val_acc: 0.5130\n",
            "Epoch 16/100\n",
            "44/44 [==============================] - 4s 81ms/step - loss: 0.6917 - acc: 0.5270 - val_loss: 0.6893 - val_acc: 0.5216\n",
            "Epoch 17/100\n",
            "44/44 [==============================] - 4s 81ms/step - loss: 0.6902 - acc: 0.5306 - val_loss: 0.6892 - val_acc: 0.5159\n",
            "Epoch 18/100\n",
            "44/44 [==============================] - 4s 80ms/step - loss: 0.6936 - acc: 0.5025 - val_loss: 0.6906 - val_acc: 0.5130\n",
            "Epoch 19/100\n",
            "44/44 [==============================] - 4s 80ms/step - loss: 0.6924 - acc: 0.5292 - val_loss: 0.6890 - val_acc: 0.5274\n",
            "Epoch 20/100\n",
            "44/44 [==============================] - 4s 81ms/step - loss: 0.6879 - acc: 0.5285 - val_loss: 0.6884 - val_acc: 0.5187\n",
            "Epoch 21/100\n",
            "44/44 [==============================] - 3s 80ms/step - loss: 0.6895 - acc: 0.5516 - val_loss: 0.6881 - val_acc: 0.5216\n",
            "Epoch 22/100\n",
            "44/44 [==============================] - 4s 81ms/step - loss: 0.6845 - acc: 0.5494 - val_loss: 0.6881 - val_acc: 0.5187\n",
            "Epoch 23/100\n",
            "44/44 [==============================] - 4s 80ms/step - loss: 0.6873 - acc: 0.5573 - val_loss: 0.6885 - val_acc: 0.5130\n",
            "Epoch 24/100\n",
            "44/44 [==============================] - 4s 81ms/step - loss: 0.6840 - acc: 0.5501 - val_loss: 0.6871 - val_acc: 0.5360\n",
            "Epoch 25/100\n",
            "44/44 [==============================] - 4s 80ms/step - loss: 0.6814 - acc: 0.5869 - val_loss: 0.6871 - val_acc: 0.5245\n",
            "Epoch 26/100\n",
            "44/44 [==============================] - 4s 81ms/step - loss: 0.6839 - acc: 0.5479 - val_loss: 0.6874 - val_acc: 0.5331\n",
            "Epoch 27/100\n",
            "44/44 [==============================] - 4s 80ms/step - loss: 0.6791 - acc: 0.5761 - val_loss: 0.6865 - val_acc: 0.5331\n",
            "Epoch 28/100\n",
            "44/44 [==============================] - 4s 80ms/step - loss: 0.6775 - acc: 0.5890 - val_loss: 0.6864 - val_acc: 0.5245\n",
            "Epoch 29/100\n",
            "44/44 [==============================] - 4s 81ms/step - loss: 0.6774 - acc: 0.5869 - val_loss: 0.6867 - val_acc: 0.5303\n",
            "Epoch 30/100\n",
            "44/44 [==============================] - 4s 81ms/step - loss: 0.6741 - acc: 0.6042 - val_loss: 0.6865 - val_acc: 0.5447\n",
            "Epoch 31/100\n",
            "44/44 [==============================] - 4s 81ms/step - loss: 0.6783 - acc: 0.5775 - val_loss: 0.6861 - val_acc: 0.5447\n",
            "Epoch 32/100\n",
            "44/44 [==============================] - 4s 81ms/step - loss: 0.6712 - acc: 0.5955 - val_loss: 0.6859 - val_acc: 0.5418\n",
            "Epoch 33/100\n",
            "44/44 [==============================] - 4s 80ms/step - loss: 0.6679 - acc: 0.6114 - val_loss: 0.6851 - val_acc: 0.5360\n",
            "Epoch 34/100\n",
            "44/44 [==============================] - 4s 80ms/step - loss: 0.6718 - acc: 0.5890 - val_loss: 0.6854 - val_acc: 0.5389\n",
            "Epoch 35/100\n",
            "44/44 [==============================] - 4s 81ms/step - loss: 0.6695 - acc: 0.5869 - val_loss: 0.6841 - val_acc: 0.5360\n",
            "Epoch 36/100\n",
            "44/44 [==============================] - 4s 80ms/step - loss: 0.6659 - acc: 0.6193 - val_loss: 0.6838 - val_acc: 0.5389\n",
            "Epoch 37/100\n",
            "44/44 [==============================] - 4s 81ms/step - loss: 0.6682 - acc: 0.6078 - val_loss: 0.6831 - val_acc: 0.5331\n",
            "Epoch 38/100\n",
            "44/44 [==============================] - 4s 80ms/step - loss: 0.6652 - acc: 0.6013 - val_loss: 0.6834 - val_acc: 0.5476\n",
            "Epoch 39/100\n",
            "44/44 [==============================] - 4s 80ms/step - loss: 0.6604 - acc: 0.6121 - val_loss: 0.6822 - val_acc: 0.5418\n",
            "Epoch 40/100\n",
            "44/44 [==============================] - 4s 80ms/step - loss: 0.6616 - acc: 0.6208 - val_loss: 0.6825 - val_acc: 0.5533\n",
            "Epoch 41/100\n",
            "44/44 [==============================] - 4s 81ms/step - loss: 0.6546 - acc: 0.6359 - val_loss: 0.6827 - val_acc: 0.5504\n",
            "Epoch 42/100\n",
            "44/44 [==============================] - 4s 81ms/step - loss: 0.6554 - acc: 0.6265 - val_loss: 0.6818 - val_acc: 0.5562\n",
            "Epoch 43/100\n",
            "44/44 [==============================] - 4s 81ms/step - loss: 0.6560 - acc: 0.6294 - val_loss: 0.6810 - val_acc: 0.5533\n",
            "Epoch 44/100\n",
            "44/44 [==============================] - 4s 80ms/step - loss: 0.6551 - acc: 0.6215 - val_loss: 0.6805 - val_acc: 0.5562\n",
            "Epoch 45/100\n",
            "44/44 [==============================] - 4s 80ms/step - loss: 0.6510 - acc: 0.6330 - val_loss: 0.6797 - val_acc: 0.5620\n",
            "Epoch 46/100\n",
            "44/44 [==============================] - 4s 81ms/step - loss: 0.6433 - acc: 0.6597 - val_loss: 0.6804 - val_acc: 0.5620\n",
            "Epoch 47/100\n",
            "44/44 [==============================] - 4s 80ms/step - loss: 0.6500 - acc: 0.6294 - val_loss: 0.6776 - val_acc: 0.5821\n",
            "Epoch 48/100\n",
            "44/44 [==============================] - 4s 80ms/step - loss: 0.6400 - acc: 0.6590 - val_loss: 0.6789 - val_acc: 0.5706\n",
            "Epoch 49/100\n",
            "44/44 [==============================] - 4s 82ms/step - loss: 0.6305 - acc: 0.6763 - val_loss: 0.6776 - val_acc: 0.5764\n",
            "Epoch 50/100\n",
            "44/44 [==============================] - 4s 81ms/step - loss: 0.6295 - acc: 0.6676 - val_loss: 0.6763 - val_acc: 0.5850\n",
            "Epoch 51/100\n",
            "44/44 [==============================] - 4s 80ms/step - loss: 0.6331 - acc: 0.6676 - val_loss: 0.6754 - val_acc: 0.5793\n",
            "Epoch 52/100\n",
            "44/44 [==============================] - 4s 81ms/step - loss: 0.6218 - acc: 0.6921 - val_loss: 0.6759 - val_acc: 0.5908\n",
            "Epoch 53/100\n",
            "44/44 [==============================] - 4s 80ms/step - loss: 0.6177 - acc: 0.6864 - val_loss: 0.6763 - val_acc: 0.5821\n",
            "Epoch 54/100\n",
            "44/44 [==============================] - 4s 80ms/step - loss: 0.6186 - acc: 0.6813 - val_loss: 0.6775 - val_acc: 0.5706\n",
            "Epoch 55/100\n",
            "44/44 [==============================] - 4s 81ms/step - loss: 0.6057 - acc: 0.7022 - val_loss: 0.6772 - val_acc: 0.5764\n",
            "Epoch 56/100\n",
            "44/44 [==============================] - 4s 81ms/step - loss: 0.6046 - acc: 0.6957 - val_loss: 0.6771 - val_acc: 0.5793\n"
          ]
        }
      ]
    },
    {
      "cell_type": "code",
      "source": [
        "plt.plot(history.history['loss'], label='train')\n",
        "plt.plot(history.history['val_loss'], label='test')\n",
        "plt.xlabel=('Epochs')\n",
        "plt.ylabel('Loss')\n",
        "plt.legend()\n",
        "plt.show()"
      ],
      "metadata": {
        "id": "PVqOhew-V3il",
        "colab": {
          "base_uri": "https://localhost:8080/",
          "height": 265
        },
        "outputId": "69a95b27-1bc6-4ccb-c927-d43c4c162174"
      },
      "execution_count": null,
      "outputs": [
        {
          "output_type": "display_data",
          "data": {
            "image/png": "[encoded data removed]",
            "text/plain": [
              "<Figure size 432x288 with 1 Axes>"
            ]
          },
          "metadata": {
            "needs_background": "light"
          }
        }
      ]
    },
    {
      "cell_type": "code",
      "source": [
        "plt.title('Accuracy')\n",
        "plt.plot(history.history['acc'], label='train')\n",
        "plt.plot(history.history['val_acc'], label='test')\n",
        "plt.xlabel=('Epochs')\n",
        "plt.ylabel('Accuracy')\n",
        "plt.legend()\n",
        "plt.show()"
      ],
      "metadata": {
        "colab": {
          "base_uri": "https://localhost:8080/",
          "height": 281
        },
        "id": "XvlVYGP1zeAH",
        "outputId": "845eb0e2-5bd5-4abb-dcb8-0eb96ce74c97"
      },
      "execution_count": null,
      "outputs": [
        {
          "output_type": "display_data",
          "data": {
            "image/png": "[encoded data removed]",
            "text/plain": [
              "<Figure size 432x288 with 1 Axes>"
            ]
          },
          "metadata": {
            "needs_background": "light"
          }
        }
      ]
    },
    {
      "cell_type": "code",
      "source": [
        "pred = model.predict(X_test)\n",
        "predictions = [1 if i[0] > 0.5 else 0 for i in pred]\n",
        "\n",
        "cm = confusion_matrix(y_test, predictions)\n"
      ],
      "metadata": {
        "id": "3syvvF71zkH-"
      },
      "execution_count": null,
      "outputs": []
    },
    {
      "cell_type": "code",
      "source": [
        "cm"
      ],
      "metadata": {
        "colab": {
          "base_uri": "https://localhost:8080/"
        },
        "id": "vlks1Q7B-iH8",
        "outputId": "d9058648-6eaf-4bfe-c872-80598db3e5dc"
      },
      "execution_count": null,
      "outputs": [
        {
          "output_type": "execute_result",
          "data": {
            "text/plain": [
              "array([[ 84,  94],\n",
              "       [ 52, 117]])"
            ]
          },
          "metadata": {},
          "execution_count": 388
        }
      ]
    },
    {
      "cell_type": "code",
      "source": [
        "cm = pd.DataFrame(cm , index = ['Not Sarcastic','Sarcastic'] , columns = ['Not Sarcastic','Sarcastic'])\n",
        "plt.figure(figsize = (10,10))\n",
        "sns.heatmap(cm,cmap= \"Blues\", linecolor = 'black' , linewidth = 1 , annot = True, fmt='' , xticklabels = ['Not Sarcastic','Sarcastic'] , yticklabels = ['Not Sarcastic','Sarcastic'])"
      ],
      "metadata": {
        "colab": {
          "base_uri": "https://localhost:8080/",
          "height": 609
        },
        "id": "g04K0V_e-l1s",
        "outputId": "a8695e6a-5693-40e2-be83-7d75f5b3e30a"
      },
      "execution_count": null,
      "outputs": [
        {
          "output_type": "execute_result",
          "data": {
            "text/plain": [
              "<matplotlib.axes._subplots.AxesSubplot at 0x7f2a6fca1b50>"
            ]
          },
          "metadata": {},
          "execution_count": 389
        },
        {
          "output_type": "display_data",
          "data": {
            "image/png": "[encoded data removed]",
            "text/plain": [
              "<Figure size 720x720 with 2 Axes>"
            ]
          },
          "metadata": {
            "needs_background": "light"
          }
        }
      ]
    },
    {
      "cell_type": "code",
      "source": [
        "print(classification_report(y_test, predictions, target_names = ['Not Sarcastic','Sarcastic']))"
      ],
      "metadata": {
        "id": "gr-Ekhm5-3F2",
        "outputId": "2c19d9a5-81a6-4648-b2c9-5d530a0bed85",
        "colab": {
          "base_uri": "https://localhost:8080/"
        }
      },
      "execution_count": null,
      "outputs": [
        {
          "output_type": "stream",
          "name": "stdout",
          "text": [
            "               precision    recall  f1-score   support\n",
            "\n",
            "Not Sarcastic       0.62      0.47      0.54       178\n",
            "    Sarcastic       0.55      0.69      0.62       169\n",
            "\n",
            "     accuracy                           0.58       347\n",
            "    macro avg       0.59      0.58      0.58       347\n",
            " weighted avg       0.59      0.58      0.57       347\n",
            "\n"
          ]
        }
      ]
    }
  ]
}